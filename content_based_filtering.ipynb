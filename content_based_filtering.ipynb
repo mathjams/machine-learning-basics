{
  "nbformat": 4,
  "nbformat_minor": 0,
  "metadata": {
    "colab": {
      "provenance": [],
      "authorship_tag": "ABX9TyN14xK0jVR37LIGsE6odokj",
      "include_colab_link": true
    },
    "kernelspec": {
      "name": "python3",
      "display_name": "Python 3"
    },
    "language_info": {
      "name": "python"
    }
  },
  "cells": [
    {
      "cell_type": "markdown",
      "metadata": {
        "id": "view-in-github",
        "colab_type": "text"
      },
      "source": [
        "<a href=\"https://colab.research.google.com/github/mathjams/machine-learning-basics/blob/main/content_based_filtering.ipynb\" target=\"_parent\"><img src=\"https://colab.research.google.com/assets/colab-badge.svg\" alt=\"Open In Colab\"/></a>"
      ]
    },
    {
      "cell_type": "code",
      "execution_count": null,
      "metadata": {
        "id": "GFrvorR1yTkj"
      },
      "outputs": [],
      "source": [
        "import numpy as np\n",
        "import numpy.ma as ma\n",
        "import pandas as pd\n",
        "import tensorflow as tf\n",
        "from tensorflow import keras\n",
        "from sklearn.preprocessing import StandardScaler, MinMaxScaler\n",
        "from sklearn.model_selection import train_test_split\n",
        "import tabulate\n",
        "from recsysNN_utils import *\n",
        "pd.set_option(\"display.precision\", 1)"
      ]
    },
    {
      "cell_type": "markdown",
      "source": [
        "Let $r(i,j)=0,1$ denote whether user $j$ rated movie $i$ and let $y(i,j)$ denote the rating given.\n",
        "\n",
        "Every user has a set of parameters $\\vec{w}^{(j)}$, corresponding to the features. For example, if the feature if a vector [romance factor, action factor], a personal set of parameters $[0,1]$ could mean that the user hates romance movies but loves action ones. We can combine the vectors $\\vec{w}^{(j)}$ to become $W$ (like in a neural network). Each user also has a scalar parameter $b^{(j)}$, to add on (like a linear regression). Putting these scalar parameters we can make a vector $\\vec{b}$ to represent all the parameters for the users.\n",
        "\n",
        "Now, every movie also has a set of features and the ratings for those features. We can denote them as $\\vec{x}^{(i)}$, and put them together into a matrix $X$. Alos, put the matrix of $r(i,j)$ into matrix $R$.\n",
        "\n",
        "\n",
        "$$\\mathbf{X} =\n",
        "\\begin{bmatrix}\n",
        "--- (\\mathbf{x}^{(0)})^T --- \\\\\n",
        "--- (\\mathbf{x}^{(1)})^T --- \\\\\n",
        "\\vdots \\\\\n",
        "--- (\\mathbf{x}^{(n_m-1)})^T --- \\\\\n",
        "\\end{bmatrix} , \\quad\n",
        "\\mathbf{W} =\n",
        "\\begin{bmatrix}\n",
        "--- (\\mathbf{w}^{(0)})^T --- \\\\\n",
        "--- (\\mathbf{w}^{(1)})^T --- \\\\\n",
        "\\vdots \\\\\n",
        "--- (\\mathbf{w}^{(n_u-1)})^T --- \\\\\n",
        "\\end{bmatrix},\\quad\n",
        "\\mathbf{ b} =\n",
        "\\begin{bmatrix}\n",
        " b^{(0)}  \\\\\n",
        " b^{(1)} \\\\\n",
        "\\vdots \\\\\n",
        "b^{(n_u-1)} \\\\\n",
        "\\end{bmatrix}\\quad\n",
        "$$\n",
        "\n",
        "\n",
        "What we want our model to do is figure out what the features should be, and the feature values, along with what the personal paramaters should be in order to minimize the cost. Our prediction is basically $\\hat{y}=\\vec{w}^{(j)}\\cdot \\vec{x}^{(i)}+b^{(j)}.$"
      ],
      "metadata": {
        "id": "x28C4nXMz-Ob"
      }
    },
    {
      "cell_type": "markdown",
      "source": [
        "The collaborative filtering cost function is given by\n",
        "$$J({\\mathbf{x}^{(0)},...,\\mathbf{x}^{(n_m-1)},\\mathbf{w}^{(0)},b^{(0)},...,\\mathbf{w}^{(n_u-1)},b^{(n_u-1)}})= \\left[ \\frac{1}{2}\\sum_{(i,j):r(i,j)=1}(\\mathbf{w}^{(j)} \\cdot \\mathbf{x}^{(i)} + b^{(j)} - y^{(i,j)})^2 \\right]\n",
        "+ \\underbrace{\\left[\n",
        "\\frac{\\lambda}{2}\n",
        "\\sum_{j=0}^{n_u-1}\\sum_{k=0}^{n-1}(\\mathbf{w}^{(j)}_k)^2\n",
        "+ \\frac{\\lambda}{2}\\sum_{i=0}^{n_m-1}\\sum_{k=0}^{n-1}(\\mathbf{x}_k^{(i)})^2\n",
        "\\right]}_{regularization}\n",
        "\\tag{1}$$\n",
        "The first summation in (1) is \"for all $i$, $j$ where $r(i,j)$ equals $1$\" and could be written:\n",
        "\n",
        "$$\n",
        "= \\left[ \\frac{1}{2}\\sum_{j=0}^{n_u-1} \\sum_{i=0}^{n_m-1}r(i,j)*(\\mathbf{w}^{(j)} \\cdot \\mathbf{x}^{(i)} + b^{(j)} - y^{(i,j)})^2 \\right]\n",
        "+\\text{regularization}\n",
        "$$\n"
      ],
      "metadata": {
        "id": "WtP4Zy4q4PtZ"
      }
    },
    {
      "cell_type": "code",
      "source": [
        "def cofi_cost_func(X, W, b, Y, R, lambda_):\n",
        "    \"\"\"\n",
        "    Returns the cost for the content-based filtering\n",
        "    Args:\n",
        "      X (ndarray (num_movies,num_features)): matrix of item features\n",
        "      W (ndarray (num_users,num_features)) : matrix of user parameters\n",
        "      b (ndarray (1, num_users)            : vector of user parameters\n",
        "      Y (ndarray (num_movies,num_users)    : matrix of user ratings of movies\n",
        "      R (ndarray (num_movies,num_users)    : matrix, where R(i, j) = 1 if the i-th movies was rated by the j-th user\n",
        "      lambda_ (float): regularization parameter\n",
        "    Returns:\n",
        "      J (float) : Cost\n",
        "    \"\"\"\n",
        "    nm, nu = Y.shape\n",
        "    n=X.shape[1]\n",
        "    J = 0\n",
        "    for i in range(nm):\n",
        "        for j in range(nu):\n",
        "            J+=1/2*(R[i][j]*(np.dot(W[j],X[i])+b[0][j]-Y[i][j])**2)\n",
        "    for k in range(n):\n",
        "        for j in range(nu):\n",
        "            J+=lambda_/2*W[j][k]**2\n",
        "    for k in range(n):\n",
        "        for i in range(nm):\n",
        "            J+=lambda_/2*X[i][k]**2\n",
        "    return J"
      ],
      "metadata": {
        "id": "zBAW-h7L0Ahw"
      },
      "execution_count": null,
      "outputs": []
    },
    {
      "cell_type": "markdown",
      "source": [
        "Vectorized version:"
      ],
      "metadata": {
        "id": "hmysmWas4e6q"
      }
    },
    {
      "cell_type": "code",
      "source": [
        "def cofi_cost_func_v(X, W, b, Y, R, lambda_):\n",
        "    \"\"\"\n",
        "    Returns the cost for the content-based filtering\n",
        "    Vectorized for speed. Uses tensorflow operations to be compatible with custom training loop.\n",
        "    Args:\n",
        "      X (ndarray (num_movies,num_features)): matrix of item features\n",
        "      W (ndarray (num_users,num_features)) : matrix of user parameters\n",
        "      b (ndarray (1, num_users)            : vector of user parameters\n",
        "      Y (ndarray (num_movies,num_users)    : matrix of user ratings of movies\n",
        "      R (ndarray (num_movies,num_users)    : matrix, where R(i, j) = 1 if the i-th movies was rated by the j-th user\n",
        "      lambda_ (float): regularization parameter\n",
        "    Returns:\n",
        "      J (float) : Cost\n",
        "    \"\"\"\n",
        "    j = (tf.linalg.matmul(X, tf.transpose(W)) + b - Y)*R\n",
        "    J = 0.5 * tf.reduce_sum(j**2) + (lambda_/2) * (tf.reduce_sum(X**2) + tf.reduce_sum(W**2))\n",
        "    return J"
      ],
      "metadata": {
        "id": "mzsbLb7B4iH0"
      },
      "execution_count": null,
      "outputs": []
    },
    {
      "cell_type": "markdown",
      "source": [
        "Now, we can take some ratings and input it into our model"
      ],
      "metadata": {
        "id": "BDymsp6g4zKq"
      }
    },
    {
      "cell_type": "code",
      "source": [
        "movieList, movieList_df = load_Movie_List_pd()\n",
        "\n",
        "my_ratings = np.zeros(num_movies)          #  Initialize my ratings\n",
        "\n",
        "# Check the file small_movie_list.csv for id of each movie in our dataset\n",
        "# For example, Toy Story 3 (2010) has ID 2700, so to rate it \"5\", you can set\n",
        "my_ratings[2700] = 5\n",
        "\n",
        "#Or suppose you did not enjoy Persuasion (2007), you can set\n",
        "my_ratings[2609] = 2;\n",
        "\n",
        "# We have selected a few movies we liked / did not like and the ratings we\n",
        "# gave are as follows:\n",
        "my_ratings[929]  = 5   # Lord of the Rings: The Return of the King, The\n",
        "my_ratings[246]  = 5   # Shrek (2001)\n",
        "my_ratings[2716] = 3   # Inception\n",
        "my_ratings[1150] = 5   # Incredibles, The (2004)\n",
        "my_ratings[382]  = 2   # Amelie (Fabuleux destin d'Amélie Poulain, Le)\n",
        "my_ratings[366]  = 5   # Harry Potter and the Sorcerer's Stone (a.k.a. Harry Potter and the Philosopher's Stone) (2001)\n",
        "my_ratings[622]  = 5   # Harry Potter and the Chamber of Secrets (2002)\n",
        "my_ratings[988]  = 3   # Eternal Sunshine of the Spotless Mind (2004)\n",
        "my_ratings[2925] = 1   # Louis Theroux: Law & Disorder (2008)\n",
        "my_ratings[2937] = 1   # Nothing to Declare (Rien à déclarer)\n",
        "my_ratings[793]  = 5   # Pirates of the Caribbean: The Curse of the Black Pearl (2003)\n",
        "my_rated = [i for i in range(len(my_ratings)) if my_ratings[i] > 0]\n",
        "\n",
        "print('\\nNew user ratings:\\n')\n",
        "for i in range(len(my_ratings)):\n",
        "    if my_ratings[i] > 0 :\n",
        "        print(f'Rated {my_ratings[i]} for  {movieList_df.loc[i,\"title\"]}');"
      ],
      "metadata": {
        "id": "h6yLYftZ41dG"
      },
      "execution_count": null,
      "outputs": []
    },
    {
      "cell_type": "code",
      "source": [
        "# Reload ratings\n",
        "Y, R = load_ratings_small()\n",
        "\n",
        "# Add new user ratings to Y\n",
        "Y = np.c_[my_ratings, Y]\n",
        "\n",
        "# Add new user indicator matrix to R\n",
        "R = np.c_[(my_ratings != 0).astype(int), R]\n",
        "\n",
        "# Normalize the Dataset\n",
        "Ynorm, Ymean = normalizeRatings(Y, R)\n",
        "\n",
        "#  Useful Values\n",
        "num_movies, num_users = Y.shape\n",
        "num_features = 100\n",
        "\n",
        "# Set Initial Parameters (W, X), use tf.Variable to track these variables\n",
        "tf.random.set_seed(1234) # for consistent results\n",
        "W = tf.Variable(tf.random.normal((num_users,  num_features),dtype=tf.float64),  name='W')\n",
        "X = tf.Variable(tf.random.normal((num_movies, num_features),dtype=tf.float64),  name='X')\n",
        "b = tf.Variable(tf.random.normal((1,          num_users),   dtype=tf.float64),  name='b')\n",
        "\n",
        "# Instantiate an optimizer.\n",
        "optimizer = keras.optimizers.Adam(learning_rate=1e-1)"
      ],
      "metadata": {
        "id": "HiaBCSU95DmX"
      },
      "execution_count": null,
      "outputs": []
    },
    {
      "cell_type": "code",
      "source": [
        "iterations = 200\n",
        "lambda_ = 1\n",
        "for iter in range(iterations):\n",
        "    # Use TensorFlow’s GradientTape\n",
        "    # to record the operations used to compute the cost\n",
        "    with tf.GradientTape() as tape:\n",
        "\n",
        "        # Compute the cost (forward pass included in cost)\n",
        "        cost_value = cofi_cost_func_v(X, W, b, Ynorm, R, lambda_)\n",
        "\n",
        "    # Use the gradient tape to automatically retrieve\n",
        "    # the gradients of the trainable variables with respect to the loss\n",
        "    grads = tape.gradient( cost_value, [X,W,b] )\n",
        "\n",
        "    # Run one step of gradient descent by updating\n",
        "    # the value of the variables to minimize the loss.\n",
        "    #updates the training variables using Adam\n",
        "    optimizer.apply_gradients( zip(grads, [X,W,b]) )\n",
        "\n",
        "    # Log periodically.\n",
        "    if iter % 20 == 0:\n",
        "        print(f\"Training loss at iteration {iter}: {cost_value:0.1f}\")"
      ],
      "metadata": {
        "id": "KAnqA_5o6XCt"
      },
      "execution_count": null,
      "outputs": []
    },
    {
      "cell_type": "code",
      "source": [
        "# Make a prediction using trained weights and biases\n",
        "p = np.matmul(X.numpy(), np.transpose(W.numpy())) + b.numpy()\n",
        "\n",
        "#restore the mean, since we normalized before\n",
        "pm = p + Ymean\n",
        "\n",
        "my_predictions = pm[:,0]\n"
      ],
      "metadata": {
        "id": "24cS1q-67A66"
      },
      "execution_count": null,
      "outputs": []
    },
    {
      "cell_type": "markdown",
      "source": [
        "The problem is, we may have differently sized $\\vec{w}$ and $\\vec{x}$, because they can depend on different things. Thus, instead we can a neural network to process $\\vec{x}_u, \\vec{x}_m$ of features for the user and movie into $\\vec{v}_u, \\vec{v}_m$ of the same size, and then we can take the dot product to find the predicted rating."
      ],
      "metadata": {
        "id": "-_K3JyNt9oct"
      }
    },
    {
      "cell_type": "markdown",
      "source": [
        "![image.png](data:image/png;base64,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)"
      ],
      "metadata": {
        "id": "NWPZNOv3-EAe"
      }
    },
    {
      "cell_type": "markdown",
      "source": [
        "We can use any layers, as long as the last dense layer is of the same size."
      ],
      "metadata": {
        "id": "ysTxiM0t-Eoj"
      }
    },
    {
      "cell_type": "code",
      "source": [
        "# scale training data\n",
        "item_train_unscaled = item_train\n",
        "user_train_unscaled = user_train\n",
        "y_train_unscaled    = y_train\n",
        "\n",
        "scalerItem = StandardScaler()\n",
        "scalerItem.fit(item_train)\n",
        "item_train = scalerItem.transform(item_train)\n",
        "\n",
        "scalerUser = StandardScaler()\n",
        "scalerUser.fit(user_train)\n",
        "user_train = scalerUser.transform(user_train)\n",
        "\n",
        "scalerTarget = MinMaxScaler((-1, 1))\n",
        "scalerTarget.fit(y_train.reshape(-1, 1))\n",
        "y_train = scalerTarget.transform(y_train.reshape(-1, 1))\n",
        "#ynorm_test = scalerTarget.transform(y_test.reshape(-1, 1))"
      ],
      "metadata": {
        "id": "10ZyQedt9wof"
      },
      "execution_count": null,
      "outputs": []
    },
    {
      "cell_type": "markdown",
      "source": [
        "Below is an example of a neural network that accomplishes this."
      ],
      "metadata": {
        "id": "pkX3PJCv-hDy"
      }
    },
    {
      "cell_type": "markdown",
      "source": [],
      "metadata": {
        "id": "O8PrIXcnnD27"
      }
    },
    {
      "cell_type": "code",
      "source": [
        "from tensorflow.keras.layers import Dense\n",
        "num_outputs = 32\n",
        "tf.random.set_seed(1)\n",
        "user_NN = tf.keras.models.Sequential([\n",
        "    Dense(units=256, activation=\"relu\"),\n",
        "    Dense(units=128, activation=\"relu\"),\n",
        "    Dense(units=num_outputs, activation=\"linear\")\n",
        "\n",
        "])\n",
        "\n",
        "item_NN = tf.keras.models.Sequential([\n",
        "    Dense(units=256, activation=\"relu\"),\n",
        "    Dense(units=128, activation=\"relu\"),\n",
        "    Dense(units=num_outputs, activation=\"linear\")\n",
        "])\n",
        "\n",
        "# create the user input and point to the base network\n",
        "input_user = tf.keras.layers.Input(shape=(num_user_features))\n",
        "vu = user_NN(input_user)\n",
        "vu = tf.linalg.l2_normalize(vu, axis=1)\n",
        "\n",
        "# create the item input and point to the base network\n",
        "input_item = tf.keras.layers.Input(shape=(num_item_features))\n",
        "vm = item_NN(input_item)\n",
        "vm = tf.linalg.l2_normalize(vm, axis=1)\n",
        "\n",
        "# compute the dot product of the two vectors vu and vm\n",
        "output = tf.keras.layers.Dot(axes=1)([vu, vm])\n",
        "\n",
        "# specify the inputs and output of the model\n",
        "model = tf.keras.Model([input_user, input_item], output)\n",
        "\n",
        "model.summary()\n",
        "\n",
        "tf.random.set_seed(1)\n",
        "cost_fn = tf.keras.losses.MeanSquaredError()\n",
        "opt = keras.optimizers.Adam(learning_rate=0.01)\n",
        "model.compile(optimizer=opt,\n",
        "              loss=cost_fn)\n",
        "tf.random.set_seed(1)\n",
        "model.fit([user_train[:, u_s:], item_train[:, i_s:]], y_train, epochs=3"
      ],
      "metadata": {
        "id": "d1is-47E-QSP"
      },
      "execution_count": null,
      "outputs": []
    },
    {
      "cell_type": "markdown",
      "source": [
        "Making a prediction"
      ],
      "metadata": {
        "id": "wSwgYRXwnEgM"
      }
    },
    {
      "cell_type": "code",
      "source": [
        "# generate and replicate the user vector to match the number movies in the data set.\n",
        "user_vecs = gen_user_vecs(user_vec,len(item_vecs))\n",
        "\n",
        "# scale our user and item vectors\n",
        "suser_vecs = scalerUser.transform(user_vecs)\n",
        "sitem_vecs = scalerItem.transform(item_vecs)\n",
        "\n",
        "# make a prediction\n",
        "y_p = model.predict([suser_vecs[:, u_s:], sitem_vecs[:, i_s:]])\n",
        "\n",
        "# unscale y prediction\n",
        "y_pu = scalerTarget.inverse_transform(y_p)\n",
        "\n",
        "# sort the results, highest prediction first\n",
        "sorted_index = np.argsort(-y_pu,axis=0).reshape(-1).tolist()  #negate to get largest rating first\n",
        "sorted_ypu   = y_pu[sorted_index]\n",
        "sorted_items = item_vecs[sorted_index]  #using unscaled vectors for display\n",
        "\n",
        "print_pred_movies(sorted_ypu, sorted_items, movie_dict, maxcount = 10)"
      ],
      "metadata": {
        "id": "lDDu4NiSnKiK"
      },
      "execution_count": null,
      "outputs": []
    },
    {
      "cell_type": "markdown",
      "source": [
        "We can also find similar items using the distance between the resulting $\\vec{v}_m$s to gauge how similar the two movies are, such as $$\\left\\Vert \\mathbf{v_m^{(k)}} - \\mathbf{v_m^{(i)}}  \\right\\Vert^2 = \\sum_{l=1}^{n}(v_{m_l}^{(k)} - v_{m_l}^{(i)})^2\\tag{1}.$$\n",
        "\n",
        "We can even use our model from before to generate $\\vec{v}_m$ for our movies, and so we can even sort new movies without retraining."
      ],
      "metadata": {
        "id": "rnH0zDdvoZRL"
      }
    },
    {
      "cell_type": "code",
      "source": [
        "def sq_dist(a,b):\n",
        "    \"\"\"\n",
        "    Returns the squared distance between two vectors\n",
        "    Args:\n",
        "      a (ndarray (n,)): vector with n features\n",
        "      b (ndarray (n,)): vector with n features\n",
        "    Returns:\n",
        "      d (float) : distance\n",
        "    \"\"\"\n",
        "    d=(np.linalg.norm(a-b))**2\n",
        "    return d"
      ],
      "metadata": {
        "id": "6JHcW8Zyom0O"
      },
      "execution_count": null,
      "outputs": []
    },
    {
      "cell_type": "code",
      "source": [
        "input_item_m = tf.keras.layers.Input(shape=(num_item_features))    # input layer\n",
        "vm_m = item_NN(input_item_m)                                       # use the trained item_NN\n",
        "vm_m = tf.linalg.l2_normalize(vm_m, axis=1)                        # incorporate normalization as was done in the original model\n",
        "model_m = tf.keras.Model(input_item_m, vm_m)\n",
        "model_m.summary()"
      ],
      "metadata": {
        "id": "fRWdHPSPrfBY"
      },
      "execution_count": null,
      "outputs": []
    }
  ]
}