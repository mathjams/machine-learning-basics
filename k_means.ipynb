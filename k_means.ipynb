{
  "nbformat": 4,
  "nbformat_minor": 0,
  "metadata": {
    "colab": {
      "provenance": [],
      "authorship_tag": "ABX9TyPyoqqxAutcwJqiX3hcX+V9",
      "include_colab_link": true
    },
    "kernelspec": {
      "name": "python3",
      "display_name": "Python 3"
    },
    "language_info": {
      "name": "python"
    }
  },
  "cells": [
    {
      "cell_type": "markdown",
      "metadata": {
        "id": "view-in-github",
        "colab_type": "text"
      },
      "source": [
        "<a href=\"https://colab.research.google.com/github/mathjams/machine-learning-basics/blob/main/k_means.ipynb\" target=\"_parent\"><img src=\"https://colab.research.google.com/assets/colab-badge.svg\" alt=\"Open In Colab\"/></a>"
      ]
    },
    {
      "cell_type": "code",
      "execution_count": null,
      "metadata": {
        "id": "uWk8xtjpCYbs"
      },
      "outputs": [],
      "source": [
        "import numpy as np\n",
        "import matplotlib.pyplot as plt\n",
        "from utils import *\n",
        "\n",
        "%matplotlib inline"
      ]
    },
    {
      "cell_type": "markdown",
      "source": [
        "How k-means works is that it slowly clusters data by moving them towards the closest centroids and then repositioning the centroids. Or this algorithm:\n",
        "\n",
        "1. Assigning each training example $x^{(i)}$ to its closest centroid, and\n",
        "2. Recomputing the mean of each centroid using the points assigned to it.\n",
        "\n",
        "K-means always converges"
      ],
      "metadata": {
        "id": "PzKl9VMcCtdk"
      }
    },
    {
      "cell_type": "code",
      "source": [
        "import numpy as np\n",
        "\n",
        "def find_closest_centroids(X, centroids):\n",
        "    \"\"\"\n",
        "    Computes the centroid memberships for every example\n",
        "\n",
        "    Args:\n",
        "        X (ndarray): (m, n) Input values\n",
        "        centroids (ndarray): (K, n) centroids\n",
        "\n",
        "    Returns:\n",
        "        idx (array_like): (m,) closest centroids\n",
        "\n",
        "    \"\"\"\n",
        "    K = centroids.shape[0]\n",
        "    idx = np.zeros(X.shape[0], dtype=int)\n",
        "    for i in range(X.shape[0]):\n",
        "        mintroid=0\n",
        "        for j in range(K):\n",
        "            if np.linalg.norm(X[i]-centroids[j])<np.linalg.norm(X[i]-centroids[mintroid]):\n",
        "                mintroid=j\n",
        "                idx[i]=j\n",
        "    return idx"
      ],
      "metadata": {
        "id": "im4mInIgQ6Wv"
      },
      "execution_count": null,
      "outputs": []
    },
    {
      "cell_type": "code",
      "source": [
        "def compute_centroids(X, idx, K):\n",
        "    \"\"\"\n",
        "    Returns the new centroids by computing the means of the\n",
        "    data points assigned to each centroid.\n",
        "\n",
        "    Args:\n",
        "        X (ndarray):   (m, n) Data points\n",
        "        idx (ndarray): (m,) Array containing index of closest centroid for each\n",
        "                       example in X. Concretely, idx[i] contains the index of\n",
        "                       the centroid closest to example i\n",
        "        K (int):       number of centroids\n",
        "\n",
        "    Returns:\n",
        "        centroids (ndarray): (K, n) New centroids computed\n",
        "    \"\"\"\n",
        "\n",
        "    # Useful variables\n",
        "    m, n = X.shape\n",
        "\n",
        "    centroids = np.zeros((K, n))\n",
        "    for i in range(K):\n",
        "        sum=np.zeros(n)\n",
        "        num=0\n",
        "        for j in range(m):\n",
        "            if idx[j]==i:\n",
        "                sum+=X[j]\n",
        "                num+=1\n",
        "        centroids[i]=sum/num\n",
        "\n",
        "    return centroids"
      ],
      "metadata": {
        "id": "Lboh-VW_RNKE"
      },
      "execution_count": null,
      "outputs": []
    },
    {
      "cell_type": "markdown",
      "source": [
        "You should run k-means several times with different numbers of centroids, because depending on where the centroids are initialized, we can end up with different groupings. Then, we can choose the final configuration which gives the least error (average sum of distances away from the final centroid matching)."
      ],
      "metadata": {
        "id": "FIlTLTo2RTZW"
      }
    },
    {
      "cell_type": "code",
      "source": [
        "def kMeans_init_centroids(X, K):\n",
        "    \"\"\"\n",
        "    This function initializes K centroids that are to be\n",
        "    used in K-Means on the dataset X\n",
        "\n",
        "    Args:\n",
        "        X (ndarray): Data points\n",
        "        K (int):     number of centroids/clusters\n",
        "\n",
        "    Returns:\n",
        "        centroids (ndarray): Initialized centroids\n",
        "    \"\"\"\n",
        "\n",
        "    # Randomly reorder the indices of examples\n",
        "    randidx = np.random.permutation(X.shape[0])\n",
        "\n",
        "    # Take the first K examples as centroids\n",
        "    centroids = X[randidx[:K]]\n",
        "\n",
        "    return centroids"
      ],
      "metadata": {
        "id": "4dE7BzeURbAH"
      },
      "execution_count": null,
      "outputs": []
    }
  ]
}